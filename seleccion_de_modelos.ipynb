{
 "cells": [
  {
   "cell_type": "markdown",
   "metadata": {},
   "source": [
    "# TALLER DE SELECCIÓN DE MODELOS"
   ]
  },
  {
   "cell_type": "code",
   "execution_count": 22,
   "metadata": {
    "collapsed": true
   },
   "outputs": [],
   "source": [
    "import numpy as np\n",
    "import pandas as pd\n",
    "\n",
    "from sklearn.linear_model import LinearRegression\n",
    "from sklearn.linear_model import Ridge\n",
    "from sklearn.linear_model import Lasso\n",
    "from sklearn.preprocessing import PolynomialFeatures\n",
    "from sklearn.model_selection import train_test_split\n",
    "from sklearn.metrics import mean_absolute_error\n",
    "from sklearn.pipeline import Pipeline\n",
    "from sklearn.datasets import load_diabetes\n",
    "from sklearn.model_selection import GridSearchCV\n",
    "from array import array\n",
    "\n",
    "import matplotlib.pyplot as plt\n",
    "%matplotlib inline"
   ]
  },
  {
   "cell_type": "code",
   "execution_count": 23,
   "metadata": {
    "collapsed": true
   },
   "outputs": [],
   "source": [
    "plt.rc('font', family='serif')"
   ]
  },
  {
   "cell_type": "markdown",
   "metadata": {},
   "source": [
    "**ERROR DE LA TAREA ANTERIOR** [(taller de regresión lineal)](https://github.com/srcolinas/Machine_Learning_basico/blob/master/regresion_lineal.ipynb)\n",
    "*NUNCA* se debe buscar el mejor modelo utilizando como referencia los datos de prueba. Para esto se deben usar unos datos validación, los cuales salen de los datos de entrenamiento y no se usan para entrenar. Una vez se escoja el mejor modelo, este se puede reentrenar usando todos los datos de entrenamiento disponibles."
   ]
  },
  {
   "cell_type": "code",
   "execution_count": 24,
   "metadata": {
    "collapsed": false
   },
   "outputs": [
    {
     "data": {
      "text/plain": [
       "(442, 10)"
      ]
     },
     "execution_count": 24,
     "metadata": {},
     "output_type": "execute_result"
    }
   ],
   "source": [
    "X, y = load_diabetes(return_X_y=True)\n",
    "X.shape"
   ]
  },
  {
   "cell_type": "code",
   "execution_count": 25,
   "metadata": {
    "collapsed": true
   },
   "outputs": [],
   "source": [
    "poly = PolynomialFeatures(degree=1)\n",
    "X_train, X_test, y_train, y_test = train_test_split(poly.fit_transform(X), y, test_size=0.33, random_state=42)\n",
    "X_train, X_val, y_train, y_val = train_test_split(X_train, y_train, test_size=0.33, random_state=42)"
   ]
  },
  {
   "cell_type": "code",
   "execution_count": 26,
   "metadata": {
    "collapsed": false,
    "scrolled": true
   },
   "outputs": [
    {
     "name": "stdout",
     "output_type": "stream",
     "text": [
      "-----------Usando alpha=0.01---------------\n",
      "Error de entrenamiento: 46.206443415821305\n",
      "Error de validación: 41.95898278691201\n",
      "Coeficiente más grande: 655.353500277\n",
      "Coeficiente más pequeño: -300.648079793\n",
      "Numero de zeros: 1\n",
      "-----------Usando alpha=0.03---------------\n",
      "Error de entrenamiento: 46.411343610231604\n",
      "Error de validación: 41.86455527359361\n",
      "Coeficiente más grande: 632.449308467\n",
      "Coeficiente más pequeño: -269.380683636\n",
      "Numero de zeros: 1\n",
      "-----------Usando alpha=0.049999999999999996---------------\n",
      "Error de entrenamiento: 46.60329616488648\n",
      "Error de validación: 41.9003013897367\n",
      "Coeficiente más grande: 610.515889886\n",
      "Coeficiente más pequeño: -250.525464025\n",
      "Numero de zeros: 1\n",
      "-----------Usando alpha=0.06999999999999999---------------\n",
      "Error de entrenamiento: 46.791251131382126\n",
      "Error de validación: 41.992552888596855\n",
      "Coeficiente más grande: 590.066591618\n",
      "Coeficiente más pequeño: -237.566146747\n",
      "Numero de zeros: 1\n",
      "-----------Usando alpha=0.08999999999999998---------------\n",
      "Error de entrenamiento: 47.00864434660673\n",
      "Error de validación: 42.11916798370943\n",
      "Coeficiente más grande: 571.079005781\n",
      "Coeficiente más pequeño: -227.755731066\n",
      "Numero de zeros: 1\n",
      "-----------Usando alpha=0.10999999999999997---------------\n",
      "Error de entrenamiento: 47.218632984087\n",
      "Error de validación: 42.268270734062824\n",
      "Coeficiente más grande: 553.437683832\n",
      "Coeficiente más pequeño: -219.841039772\n",
      "Numero de zeros: 1\n",
      "-----------Usando alpha=0.12999999999999998---------------\n",
      "Error de entrenamiento: 47.41312489552788\n",
      "Error de validación: 42.45080948006443\n",
      "Coeficiente más grande: 537.013905588\n",
      "Coeficiente más pequeño: -213.172891394\n",
      "Numero de zeros: 1\n",
      "-----------Usando alpha=0.15---------------\n",
      "Error de entrenamiento: 47.594384967678884\n",
      "Error de validación: 42.62306330542735\n",
      "Coeficiente más grande: 521.686078613\n",
      "Coeficiente más pequeño: -207.380512772\n",
      "Numero de zeros: 1\n",
      "-----------Usando alpha=0.16999999999999998---------------\n",
      "Error de entrenamiento: 47.773575413320295\n",
      "Error de validación: 42.78493165502314\n",
      "Coeficiente más grande: 507.344852314\n",
      "Coeficiente más pequeño: -202.235688005\n",
      "Numero de zeros: 1\n",
      "-----------Usando alpha=0.18999999999999997---------------\n",
      "Error de entrenamiento: 47.951542751786356\n",
      "Error de validación: 42.944128755239404\n",
      "Coeficiente más grande: 493.893581598\n",
      "Coeficiente más pequeño: -197.589422896\n",
      "Numero de zeros: 1\n"
     ]
    }
   ],
   "source": [
    "error_train = array('f')\n",
    "error_val = array('f')\n",
    "for alpha in np.arange(0.01, 0.2, 0.02):\n",
    "    ridge_regressor = Ridge(alpha=alpha)\n",
    "    ridge_regressor.fit(X_train, y_train)\n",
    "    print(\"-----------Usando alpha={}---------------\".format(alpha))\n",
    "    MAE_train = float(mean_absolute_error(y_train, ridge_regressor.predict(X_train)))\n",
    "    print('Error de entrenamiento:',MAE_train)\n",
    "    error_train.append(MAE_train)\n",
    "    MAE_val = float(mean_absolute_error(y_val, ridge_regressor.predict(X_val)))\n",
    "    print('Error de validación:', MAE_val)\n",
    "    error_val.append(MAE_val)\n",
    "    print('Coeficiente más grande:', np.max(ridge_regressor.coef_.reshape(-1)))\n",
    "    print('Coeficiente más pequeño:', np.min(ridge_regressor.coef_.reshape(-1)))\n",
    "    print('Numero de zeros:', np.sum(np.abs(ridge_regressor.coef_.reshape(-1))<0.0001))"
   ]
  },
  {
   "cell_type": "code",
   "execution_count": 27,
   "metadata": {
    "collapsed": false,
    "scrolled": true
   },
   "outputs": [
    {
     "data": {
      "text/plain": [
       "<matplotlib.legend.Legend at 0xb7a9e80>"
      ]
     },
     "execution_count": 27,
     "metadata": {},
     "output_type": "execute_result"
    },
    {
     "data": {
      "image/png": "[encoded data removed]",
      "text/plain": [
       "<matplotlib.figure.Figure at 0xb5ad6d8>"
      ]
     },
     "metadata": {},
     "output_type": "display_data"
    }
   ],
   "source": [
    "fig = plt.figure(figsize=[7, 5])\n",
    "ax = fig.add_subplot(111)\n",
    "ax.set_axisbelow(True)\n",
    "\n",
    "ax.plot(np.arange(0.01, 0.2, 0.02), error_train, color='b', alpha=0.7, label='Error en datos de entrenamiento')\n",
    "ax.plot(np.arange(0.01, 0.2, 0.02), error_val, color='g', alpha=0.7, label='Error en datos de validación')\n",
    "\n",
    "ax.grid(linestyle='--',color='0.7')\n",
    "ax.set_ylabel('Promedio de error absoluto')\n",
    "ax.set_xlabel('Valor de alpha')\n",
    "ax.legend(loc='best')"
   ]
  },
  {
   "cell_type": "code",
   "execution_count": 28,
   "metadata": {
    "collapsed": false,
    "scrolled": true
   },
   "outputs": [
    {
     "name": "stdout",
     "output_type": "stream",
     "text": [
      "-----------Usando alpha=0.01---------------\n",
      "Error de entrenamiento: 46.18896430222597\n",
      "Error de validación: 42.008423800628684\n",
      "Coeficiente más grande: 666.253079376\n",
      "Coeficiente más pequeño: -293.947318225\n",
      "Numero de zeros: 3\n",
      "-----------Usando alpha=0.03---------------\n",
      "Error de entrenamiento: 46.34939634485592\n",
      "Error de validación: 41.994623406963456\n",
      "Coeficiente más grande: 665.623283866\n",
      "Coeficiente más pequeño: -272.069077384\n",
      "Numero de zeros: 3\n",
      "-----------Usando alpha=0.049999999999999996---------------\n",
      "Error de entrenamiento: 46.52668237072867\n",
      "Error de validación: 42.15177278635143\n",
      "Coeficiente más grande: 666.285829741\n",
      "Coeficiente más pequeño: -281.023791465\n",
      "Numero de zeros: 4\n",
      "-----------Usando alpha=0.06999999999999999---------------\n",
      "Error de entrenamiento: 46.66980160271884\n",
      "Error de validación: 42.338593664122186\n",
      "Coeficiente más grande: 664.314358446\n",
      "Coeficiente más pequeño: -269.598225096\n",
      "Numero de zeros: 5\n",
      "-----------Usando alpha=0.08999999999999998---------------\n",
      "Error de entrenamiento: 46.81549070272134\n",
      "Error de validación: 42.55021827619973\n",
      "Coeficiente más grande: 661.869982181\n",
      "Coeficiente más pequeño: -257.57466152\n",
      "Numero de zeros: 5\n",
      "-----------Usando alpha=0.10999999999999997---------------\n",
      "Error de entrenamiento: 46.96518946603973\n",
      "Error de validación: 42.804962899565815\n",
      "Coeficiente más grande: 659.424236741\n",
      "Coeficiente más pequeño: -245.552157238\n",
      "Numero de zeros: 5\n",
      "-----------Usando alpha=0.12999999999999998---------------\n",
      "Error de entrenamiento: 47.102321524609984\n",
      "Error de validación: 43.053237732956035\n",
      "Coeficiente más grande: 657.519680438\n",
      "Coeficiente más pequeño: -233.457133249\n",
      "Numero de zeros: 6\n",
      "-----------Usando alpha=0.15---------------\n",
      "Error de entrenamiento: 47.22563665073279\n",
      "Error de validación: 43.25671750373349\n",
      "Coeficiente más grande: 656.851119875\n",
      "Coeficiente más pequeño: -221.181299638\n",
      "Numero de zeros: 6\n",
      "-----------Usando alpha=0.16999999999999998---------------\n",
      "Error de entrenamiento: 47.35642939595613\n",
      "Error de validación: 43.48473414164499\n",
      "Coeficiente más grande: 656.182419009\n",
      "Coeficiente más pequeño: -208.905496063\n",
      "Numero de zeros: 6\n",
      "-----------Usando alpha=0.18999999999999997---------------\n",
      "Error de entrenamiento: 47.48722208144343\n",
      "Error de validación: 43.7425552346138\n",
      "Coeficiente más grande: 655.513646259\n",
      "Coeficiente más pequeño: -196.629707875\n",
      "Numero de zeros: 6\n"
     ]
    }
   ],
   "source": [
    "error_train = array('f')\n",
    "error_val = array('f')\n",
    "for alpha in np.arange(0.01, 0.2, 0.02):\n",
    "    lasso_regressor = Lasso(alpha=alpha)\n",
    "    lasso_regressor.fit(X_train, y_train)\n",
    "    print(\"-----------Usando alpha={}---------------\".format(alpha))\n",
    "    MAE_train = float(mean_absolute_error(y_train, lasso_regressor.predict(X_train)))\n",
    "    print('Error de entrenamiento:',MAE_train)\n",
    "    error_train.append(MAE_train)\n",
    "    MAE_val = float(mean_absolute_error(y_val, lasso_regressor.predict(X_val)))\n",
    "    print('Error de validación:', MAE_val)\n",
    "    error_val.append(MAE_val)\n",
    "    print('Coeficiente más grande:', np.max(lasso_regressor.coef_.reshape(-1)))\n",
    "    print('Coeficiente más pequeño:', np.min(lasso_regressor.coef_.reshape(-1)))\n",
    "    print('Numero de zeros:', np.sum(np.abs(lasso_regressor.coef_.reshape(-1))<0.0001))"
   ]
  },
  {
   "cell_type": "code",
   "execution_count": 29,
   "metadata": {
    "collapsed": false
   },
   "outputs": [
    {
     "data": {
      "text/plain": [
       "<matplotlib.legend.Legend at 0xb822cf8>"
      ]
     },
     "execution_count": 29,
     "metadata": {},
     "output_type": "execute_result"
    },
    {
     "data": {
      "image/png": "[encoded data removed]",
      "text/plain": [
       "<matplotlib.figure.Figure at 0xb7b4e10>"
      ]
     },
     "metadata": {},
     "output_type": "display_data"
    }
   ],
   "source": [
    "fig = plt.figure(figsize=[7, 5])\n",
    "ax = fig.add_subplot(111)\n",
    "ax.set_axisbelow(True)\n",
    "\n",
    "ax.plot(np.arange(0.01, 0.2, 0.02), error_train, color='b', alpha=0.7, label='Error en datos de entrenamiento')\n",
    "ax.plot(np.arange(0.01, 0.2, 0.02), error_val, color='g', alpha=0.7, label='Error en datos de validación')\n",
    "\n",
    "ax.grid(linestyle='--',color='0.7')\n",
    "ax.set_ylabel('Promedio de error absoluto')\n",
    "ax.set_xlabel('Valor de alpha')\n",
    "ax.legend(loc='best')"
   ]
  },
  {
   "cell_type": "markdown",
   "metadata": {},
   "source": [
    "**Qué grado del polinomio se debe escoger?**"
   ]
  },
  {
   "cell_type": "code",
   "execution_count": 30,
   "metadata": {
    "collapsed": false,
    "scrolled": true
   },
   "outputs": [
    {
     "name": "stdout",
     "output_type": "stream",
     "text": [
      "-----------Usando degree=1---------------\n",
      "Error de entrenamiento: 46.09243702175708\n",
      "Error de validación: 42.09448347069841\n",
      "Coeficiente más grande: 665.464572792\n",
      "Coeficiente más pequeño: -315.667649655\n",
      "Numero de zeros: 1\n",
      "-----------Usando degree=2---------------\n",
      "Error de entrenamiento: 43.75252525252525\n",
      "Error de validación: 65.87755102040816\n",
      "Coeficiente más grande: 4.00341892806e+16\n",
      "Coeficiente más pequeño: -895568.061026\n",
      "Numero de zeros: 0\n",
      "-----------Usando degree=3---------------\n",
      "Error de entrenamiento: 1.64599019038665e-11\n",
      "Error de validación: 342.2008994094964\n",
      "Coeficiente más grande: 1503445.30375\n",
      "Coeficiente más pequeño: -2047919.08088\n",
      "Numero de zeros: 1\n",
      "-----------Usando degree=4---------------\n",
      "Error de entrenamiento: 6.634459536181024e-12\n",
      "Error de validación: 225.89290197884586\n",
      "Coeficiente más grande: 733312.999113\n",
      "Coeficiente más pequeño: -1020973.11849\n",
      "Numero de zeros: 1\n",
      "-----------Usando degree=5---------------\n",
      "Error de entrenamiento: 1.0695462473027285e-11\n",
      "Error de validación: 224.6041223972644\n",
      "Coeficiente más grande: 732613.127086\n",
      "Coeficiente más pequeño: -1011155.16579\n",
      "Numero de zeros: 1\n",
      "-----------Usando degree=6---------------\n",
      "Error de entrenamiento: 1.3255138849607913e-11\n",
      "Error de validación: 224.5966899500327\n",
      "Coeficiente más grande: 732610.75168\n",
      "Coeficiente más pequeño: -1010989.81457\n",
      "Numero de zeros: 1\n",
      "-----------Usando degree=7---------------\n",
      "Error de entrenamiento: 1.2272565904041962e-10\n",
      "Error de validación: 224.59547150744731\n",
      "Coeficiente más grande: 732611.160526\n",
      "Coeficiente más pequeño: -1010984.96096\n",
      "Numero de zeros: 2\n"
     ]
    }
   ],
   "source": [
    "error_train = array('f')\n",
    "error_val = array('f')\n",
    "for i in range(1,8):\n",
    "    poly = PolynomialFeatures(degree=i)\n",
    "    X_train, X_test, y_train, y_test = train_test_split(poly.fit_transform(X), y, test_size=0.33, random_state=42)\n",
    "    X_train, X_val, y_train, y_val = train_test_split(X_train, y_train, test_size=0.33, random_state=42)\n",
    "    regressor = LinearRegression()\n",
    "    regressor.fit(X_train, y_train)\n",
    "    y_pred = regressor.predict(X_val)\n",
    "    print(\"-----------Usando degree={}---------------\".format(i))\n",
    "    MAE_train = float(mean_absolute_error(y_train, regressor.predict(X_train)))\n",
    "    print('Error de entrenamiento:',MAE_train)\n",
    "    error_train.append(MAE_train)\n",
    "    MAE_val = float(mean_absolute_error(y_val, regressor.predict(X_val)))\n",
    "    print('Error de validación:', MAE_val)\n",
    "    error_val.append(MAE_val)\n",
    "    print('Coeficiente más grande:', np.max(regressor.coef_.reshape(-1)))\n",
    "    print('Coeficiente más pequeño:', np.min(regressor.coef_.reshape(-1)))\n",
    "    print('Numero de zeros:', np.sum(np.abs(regressor.coef_.reshape(-1))<0.0001))"
   ]
  },
  {
   "cell_type": "code",
   "execution_count": 31,
   "metadata": {
    "collapsed": false
   },
   "outputs": [
    {
     "data": {
      "text/plain": [
       "<matplotlib.legend.Legend at 0xb8c68d0>"
      ]
     },
     "execution_count": 31,
     "metadata": {},
     "output_type": "execute_result"
    },
    {
     "data": {
      "image/png": "[encoded data removed]",
      "text/plain": [
       "<matplotlib.figure.Figure at 0xb82cc88>"
      ]
     },
     "metadata": {},
     "output_type": "display_data"
    }
   ],
   "source": [
    "fig = plt.figure(figsize=[7, 5])\n",
    "ax = fig.add_subplot(111)\n",
    "ax.set_axisbelow(True)\n",
    "\n",
    "ax.plot(range(1,8), error_train, color='b', alpha=0.7, label='Error en datos de entrenamiento')\n",
    "ax.plot(range(1,8), error_val, color='g', alpha=0.7, label='Error en datos de validación')\n",
    "\n",
    "ax.grid(linestyle='--',color='0.7')\n",
    "ax.set_ylabel('Promedio de error absoluto')\n",
    "ax.set_xlabel('Valor de alpha')\n",
    "ax.legend(loc='best')"
   ]
  },
  {
   "cell_type": "markdown",
   "metadata": {},
   "source": [
    "**Qué pasa si usamos alguna regularización y un polinomio de orden 4?**"
   ]
  },
  {
   "cell_type": "code",
   "execution_count": 32,
   "metadata": {
    "collapsed": true
   },
   "outputs": [],
   "source": [
    "poly = PolynomialFeatures(degree=4)\n",
    "X_train, X_test, y_train, y_test = train_test_split(poly.fit_transform(X), y, test_size=0.33, random_state=42)\n",
    "X_train, X_val, y_train, y_val = train_test_split(X_train, y_train, test_size=0.33, random_state=42)"
   ]
  },
  {
   "cell_type": "code",
   "execution_count": 33,
   "metadata": {
    "collapsed": false
   },
   "outputs": [
    {
     "data": {
      "text/plain": [
       "(198, 1001)"
      ]
     },
     "execution_count": 33,
     "metadata": {},
     "output_type": "execute_result"
    }
   ],
   "source": [
    "X_train.shape"
   ]
  },
  {
   "cell_type": "code",
   "execution_count": 34,
   "metadata": {
    "collapsed": false,
    "scrolled": true
   },
   "outputs": [
    {
     "name": "stdout",
     "output_type": "stream",
     "text": [
      "-----------Usando alpha=0.01---------------\n",
      "Error de entrenamiento: 43.23789257330331\n",
      "Error de validación: 44.46852622351813\n",
      "Coeficiente más grande: 3090.29829234\n",
      "Coeficiente más pequeño: -290.088680594\n",
      "Numero de zeros: 984\n",
      "-----------Usando alpha=0.03---------------\n",
      "Error de entrenamiento: 46.19758357319833\n",
      "Error de validación: 42.114102912572335\n",
      "Coeficiente más grande: 666.880715083\n",
      "Coeficiente más pequeño: -268.185943174\n",
      "Numero de zeros: 992\n",
      "-----------Usando alpha=0.049999999999999996---------------\n",
      "Error de entrenamiento: 46.52668237072867\n",
      "Error de validación: 42.15177278635143\n",
      "Coeficiente más grande: 666.285829741\n",
      "Coeficiente más pequeño: -281.023791465\n",
      "Numero de zeros: 994\n",
      "-----------Usando alpha=0.06999999999999999---------------\n",
      "Error de entrenamiento: 46.66980160271884\n",
      "Error de validación: 42.338593664122186\n",
      "Coeficiente más grande: 664.314358446\n",
      "Coeficiente más pequeño: -269.598225096\n",
      "Numero de zeros: 995\n",
      "-----------Usando alpha=0.08999999999999998---------------\n",
      "Error de entrenamiento: 46.81549070272134\n",
      "Error de validación: 42.55021827619973\n",
      "Coeficiente más grande: 661.869982181\n",
      "Coeficiente más pequeño: -257.57466152\n",
      "Numero de zeros: 995\n",
      "-----------Usando alpha=0.10999999999999997---------------\n",
      "Error de entrenamiento: 46.96518946603973\n",
      "Error de validación: 42.804962899565815\n",
      "Coeficiente más grande: 659.424236741\n",
      "Coeficiente más pequeño: -245.552157238\n",
      "Numero de zeros: 995\n",
      "-----------Usando alpha=0.12999999999999998---------------\n",
      "Error de entrenamiento: 47.102321524609984\n",
      "Error de validación: 43.053237732956035\n",
      "Coeficiente más grande: 657.519680438\n",
      "Coeficiente más pequeño: -233.457133249\n",
      "Numero de zeros: 996\n",
      "-----------Usando alpha=0.15---------------\n",
      "Error de entrenamiento: 47.22563665073279\n",
      "Error de validación: 43.25671750373349\n",
      "Coeficiente más grande: 656.851119875\n",
      "Coeficiente más pequeño: -221.181299638\n",
      "Numero de zeros: 996\n",
      "-----------Usando alpha=0.16999999999999998---------------\n",
      "Error de entrenamiento: 47.35642939595613\n",
      "Error de validación: 43.48473414164499\n",
      "Coeficiente más grande: 656.182419009\n",
      "Coeficiente más pequeño: -208.905496063\n",
      "Numero de zeros: 996\n",
      "-----------Usando alpha=0.18999999999999997---------------\n",
      "Error de entrenamiento: 47.48722208144343\n",
      "Error de validación: 43.7425552346138\n",
      "Coeficiente más grande: 655.513646259\n",
      "Coeficiente más pequeño: -196.629707875\n",
      "Numero de zeros: 996\n"
     ]
    }
   ],
   "source": [
    "error_train = array('f')\n",
    "error_val = array('f')\n",
    "for alpha in np.arange(0.01, 0.2, 0.02):\n",
    "    lasso_regressor = Lasso(alpha=alpha)\n",
    "    lasso_regressor.fit(X_train, y_train)\n",
    "    print(\"-----------Usando alpha={}---------------\".format(alpha))\n",
    "    MAE_train = float(mean_absolute_error(y_train, lasso_regressor.predict(X_train)))\n",
    "    print('Error de entrenamiento:',MAE_train)\n",
    "    error_train.append(MAE_train)\n",
    "    MAE_val = float(mean_absolute_error(y_val, lasso_regressor.predict(X_val)))\n",
    "    print('Error de validación:', MAE_val)\n",
    "    error_val.append(MAE_val)\n",
    "    print('Coeficiente más grande:', np.max(lasso_regressor.coef_.reshape(-1)))\n",
    "    print('Coeficiente más pequeño:', np.min(lasso_regressor.coef_.reshape(-1)))\n",
    "    print('Numero de zeros:', np.sum(np.abs(lasso_regressor.coef_.reshape(-1))<0.0001))"
   ]
  },
  {
   "cell_type": "code",
   "execution_count": 35,
   "metadata": {
    "collapsed": false,
    "scrolled": true
   },
   "outputs": [
    {
     "name": "stdout",
     "output_type": "stream",
     "text": [
      "-----------Usando alpha=0.01---------------\n",
      "Error de entrenamiento: 43.235465436634705\n",
      "Error de validación: 44.468833097758036\n",
      "Coeficiente más grande: 3094.14547625\n",
      "Coeficiente más pequeño: -289.366866192\n",
      "Numero de zeros: 983\n",
      "-----------Usando alpha=0.03---------------\n",
      "Error de entrenamiento: 46.191120870816206\n",
      "Error de validación: 42.11732185521275\n",
      "Coeficiente más grande: 666.939958959\n",
      "Coeficiente más pequeño: -268.093523676\n",
      "Numero de zeros: 991\n",
      "-----------Usando alpha=0.049999999999999996---------------\n",
      "Error de entrenamiento: 46.521680309340525\n",
      "Error de validación: 42.14811240940272\n",
      "Coeficiente más grande: 666.311285417\n",
      "Coeficiente más pequeño: -280.967114007\n",
      "Numero de zeros: 993\n",
      "-----------Usando alpha=0.06999999999999999---------------\n",
      "Error de entrenamiento: 46.66283126981002\n",
      "Error de validación: 42.33171550210169\n",
      "Coeficiente más grande: 664.364974395\n",
      "Coeficiente más pequeño: -269.534491273\n",
      "Numero de zeros: 994\n",
      "-----------Usando alpha=0.08999999999999998---------------\n",
      "Error de entrenamiento: 46.807279968841925\n",
      "Error de validación: 42.539536207274836\n",
      "Coeficiente más grande: 661.935419854\n",
      "Coeficiente más pequeño: -257.492538311\n",
      "Numero de zeros: 994\n",
      "-----------Usando alpha=0.10999999999999997---------------\n",
      "Error de entrenamiento: 46.95515550943938\n",
      "Error de validación: 42.79402902529871\n",
      "Coeficiente más grande: 659.504318511\n",
      "Coeficiente más pequeño: -245.451740435\n",
      "Numero de zeros: 994\n",
      "-----------Usando alpha=0.12999999999999998---------------\n",
      "Error de entrenamiento: 47.093105967115605\n",
      "Error de validación: 43.04078656961529\n",
      "Coeficiente más grande: 657.602613792\n",
      "Coeficiente más pequeño: -233.34016803\n",
      "Numero de zeros: 995\n",
      "-----------Usando alpha=0.15---------------\n",
      "Error de entrenamiento: 47.216486815727755\n",
      "Error de validación: 43.24511901917868\n",
      "Coeficiente más grande: 656.946894444\n",
      "Coeficiente más pequeño: -221.046360909\n",
      "Numero de zeros: 995\n",
      "-----------Usando alpha=0.16999999999999998---------------\n",
      "Error de entrenamiento: 47.3460595743447\n",
      "Error de validación: 43.46484862854965\n",
      "Coeficiente más grande: 656.290997604\n",
      "Coeficiente más pequeño: -208.752584112\n",
      "Numero de zeros: 995\n",
      "-----------Usando alpha=0.18999999999999997---------------\n",
      "Error de entrenamiento: 47.475632283678515\n",
      "Error de validación: 43.72033058283772\n",
      "Coeficiente más grande: 655.6350463\n",
      "Coeficiente más pequeño: -196.458820371\n",
      "Numero de zeros: 995\n"
     ]
    }
   ],
   "source": [
    "error_train = array('f')\n",
    "error_val = array('f')\n",
    "for alpha in np.arange(0.01, 0.2, 0.02):\n",
    "    lasso_regressor = Lasso(alpha=alpha, fit_intercept=False)\n",
    "    lasso_regressor.fit(X_train, y_train)\n",
    "    print(\"-----------Usando alpha={}---------------\".format(alpha))\n",
    "    MAE_train = float(mean_absolute_error(y_train, lasso_regressor.predict(X_train)))\n",
    "    print('Error de entrenamiento:',MAE_train)\n",
    "    error_train.append(MAE_train)\n",
    "    MAE_val = float(mean_absolute_error(y_val, lasso_regressor.predict(X_val)))\n",
    "    print('Error de validación:', MAE_val)\n",
    "    error_val.append(MAE_val)\n",
    "    print('Coeficiente más grande:', np.max(lasso_regressor.coef_.reshape(-1)))\n",
    "    print('Coeficiente más pequeño:', np.min(lasso_regressor.coef_.reshape(-1)))\n",
    "    print('Numero de zeros:', np.sum(np.abs(lasso_regressor.coef_.reshape(-1))<0.0001))"
   ]
  },
  {
   "cell_type": "code",
   "execution_count": 36,
   "metadata": {
    "collapsed": false
   },
   "outputs": [
    {
     "data": {
      "text/plain": [
       "<matplotlib.legend.Legend at 0xb93fc50>"
      ]
     },
     "execution_count": 36,
     "metadata": {},
     "output_type": "execute_result"
    },
    {
     "data": {
      "image/png": "[encoded data removed]",
      "text/plain": [
       "<matplotlib.figure.Figure at 0xb8d17b8>"
      ]
     },
     "metadata": {},
     "output_type": "display_data"
    }
   ],
   "source": [
    "fig = plt.figure(figsize=[7, 5])\n",
    "ax = fig.add_subplot(111)\n",
    "ax.set_axisbelow(True)\n",
    "\n",
    "ax.plot(np.arange(0.01, 0.2, 0.02), error_train, color='b', alpha=0.7, label='Error en datos de entrenamiento')\n",
    "ax.plot(np.arange(0.01, 0.2, 0.02), error_val, color='g', alpha=0.7, label='Error en datos de validación')\n",
    "\n",
    "ax.grid(linestyle='--',color='0.7')\n",
    "ax.set_ylabel('Promedio de error absoluto')\n",
    "ax.set_xlabel('Valor de alpha')\n",
    "ax.legend(loc='best')"
   ]
  },
  {
   "cell_type": "markdown",
   "metadata": {},
   "source": [
    "**Cómo automatizar este primer este proceso?** \n",
    "1. Necesitamos un modelo que haga la transformación polonomial y el ajuste en un paso\n",
    "2. Necesitamos buscar el mejor de todos las posibles combinaciones de parámetros (grado de polinomio y nivel de regularización)"
   ]
  },
  {
   "cell_type": "code",
   "execution_count": 37,
   "metadata": {
    "collapsed": true
   },
   "outputs": [],
   "source": [
    "X, y = load_diabetes(return_X_y=True)\n",
    "X_train, X_test, y_train, y_test = train_test_split(X, y, test_size=0.33, random_state=42)"
   ]
  },
  {
   "cell_type": "code",
   "execution_count": 38,
   "metadata": {
    "collapsed": false
   },
   "outputs": [
    {
     "data": {
      "text/plain": [
       "{'lasso': Lasso(alpha=1.0, copy_X=True, fit_intercept=True, max_iter=1000,\n",
       "    normalize=False, positive=False, precompute=False, random_state=None,\n",
       "    selection='cyclic', tol=0.0001, warm_start=False),\n",
       " 'lasso__alpha': 1.0,\n",
       " 'lasso__copy_X': True,\n",
       " 'lasso__fit_intercept': True,\n",
       " 'lasso__max_iter': 1000,\n",
       " 'lasso__normalize': False,\n",
       " 'lasso__positive': False,\n",
       " 'lasso__precompute': False,\n",
       " 'lasso__random_state': None,\n",
       " 'lasso__selection': 'cyclic',\n",
       " 'lasso__tol': 0.0001,\n",
       " 'lasso__warm_start': False,\n",
       " 'poly': PolynomialFeatures(degree=2, include_bias=True, interaction_only=False),\n",
       " 'poly__degree': 2,\n",
       " 'poly__include_bias': True,\n",
       " 'poly__interaction_only': False,\n",
       " 'steps': [('poly',\n",
       "   PolynomialFeatures(degree=2, include_bias=True, interaction_only=False)),\n",
       "  ('lasso', Lasso(alpha=1.0, copy_X=True, fit_intercept=True, max_iter=1000,\n",
       "      normalize=False, positive=False, precompute=False, random_state=None,\n",
       "      selection='cyclic', tol=0.0001, warm_start=False))]}"
      ]
     },
     "execution_count": 38,
     "metadata": {},
     "output_type": "execute_result"
    }
   ],
   "source": [
    "estimator = Pipeline([('poly', PolynomialFeatures()), ('lasso', Lasso())])\n",
    "estimator.get_params()"
   ]
  },
  {
   "cell_type": "code",
   "execution_count": 43,
   "metadata": {
    "collapsed": false
   },
   "outputs": [
    {
     "data": {
      "text/plain": [
       "{'lasso__alpha': array([ 0.01,  0.02,  0.03,  0.04,  0.05,  0.06,  0.07,  0.08,  0.09,\n",
       "         0.1 ,  0.11,  0.12,  0.13,  0.14,  0.15,  0.16,  0.17,  0.18,  0.19]),\n",
       " 'poly__degree': range(1, 10)}"
      ]
     },
     "execution_count": 43,
     "metadata": {},
     "output_type": "execute_result"
    }
   ],
   "source": [
    "param_grid = {'poly__degree':range(1,10), 'lasso__alpha':np.arange(0.01, 0.2, 0.01)}\n",
    "param_grid"
   ]
  },
  {
   "cell_type": "code",
   "execution_count": 44,
   "metadata": {
    "collapsed": false
   },
   "outputs": [
    {
     "data": {
      "text/plain": [
       "GridSearchCV(cv=None, error_score='raise',\n",
       "       estimator=Pipeline(steps=[('poly', PolynomialFeatures(degree=2, include_bias=True, interaction_only=False)), ('lasso', Lasso(alpha=1.0, copy_X=True, fit_intercept=True, max_iter=1000,\n",
       "   normalize=False, positive=False, precompute=False, random_state=None,\n",
       "   selection='cyclic', tol=0.0001, warm_start=False))]),\n",
       "       fit_params={}, iid=True, n_jobs=1,\n",
       "       param_grid={'poly__degree': range(1, 10), 'lasso__alpha': array([ 0.01,  0.02,  0.03,  0.04,  0.05,  0.06,  0.07,  0.08,  0.09,\n",
       "        0.1 ,  0.11,  0.12,  0.13,  0.14,  0.15,  0.16,  0.17,  0.18,  0.19])},\n",
       "       pre_dispatch='2*n_jobs', refit=True, return_train_score=True,\n",
       "       scoring=None, verbose=0)"
      ]
     },
     "execution_count": 44,
     "metadata": {},
     "output_type": "execute_result"
    }
   ],
   "source": [
    "regressor = GridSearchCV(estimator, param_grid)\n",
    "regressor"
   ]
  },
  {
   "cell_type": "code",
   "execution_count": 45,
   "metadata": {
    "collapsed": false
   },
   "outputs": [
    {
     "data": {
      "text/plain": [
       "GridSearchCV(cv=None, error_score='raise',\n",
       "       estimator=Pipeline(steps=[('poly', PolynomialFeatures(degree=2, include_bias=True, interaction_only=False)), ('lasso', Lasso(alpha=1.0, copy_X=True, fit_intercept=True, max_iter=1000,\n",
       "   normalize=False, positive=False, precompute=False, random_state=None,\n",
       "   selection='cyclic', tol=0.0001, warm_start=False))]),\n",
       "       fit_params={}, iid=True, n_jobs=1,\n",
       "       param_grid={'poly__degree': range(1, 10), 'lasso__alpha': array([ 0.01,  0.02,  0.03,  0.04,  0.05,  0.06,  0.07,  0.08,  0.09,\n",
       "        0.1 ,  0.11,  0.12,  0.13,  0.14,  0.15,  0.16,  0.17,  0.18,  0.19])},\n",
       "       pre_dispatch='2*n_jobs', refit=True, return_train_score=True,\n",
       "       scoring=None, verbose=0)"
      ]
     },
     "execution_count": 45,
     "metadata": {},
     "output_type": "execute_result"
    }
   ],
   "source": [
    "regressor.fit(X_train, y_train)"
   ]
  },
  {
   "cell_type": "code",
   "execution_count": 46,
   "metadata": {
    "collapsed": false
   },
   "outputs": [
    {
     "data": {
      "text/plain": [
       "{'lasso__alpha': 0.13, 'poly__degree': 1}"
      ]
     },
     "execution_count": 46,
     "metadata": {},
     "output_type": "execute_result"
    }
   ],
   "source": [
    "regressor.best_params_"
   ]
  },
  {
   "cell_type": "markdown",
   "metadata": {},
   "source": [
    "## TAREA:\n",
    "Mirar el modelo de retos que se sigue en [colomb-ia](https://github.com/colomb-ia/retos) y luego:\n",
    "1. Crear un repositorio para proponer un reto de regresión siguiendo ese formato\n",
    "2. Proponer una solución inicial para ese reto\n",
    "3. Proponer una solución a [colomb-ia](https://github.com/colomb-ia/retos) en el reto [S-curve](https://github.com/colomb-ia/retos)"
   ]
  },
  {
   "cell_type": "code",
   "execution_count": null,
   "metadata": {
    "collapsed": true
   },
   "outputs": [],
   "source": []
  }
 ],
 "metadata": {
  "anaconda-cloud": {},
  "kernelspec": {
   "display_name": "Python [conda root]",
   "language": "python",
   "name": "conda-root-py"
  },
  "language_info": {
   "codemirror_mode": {
    "name": "ipython",
    "version": 3
   },
   "file_extension": ".py",
   "mimetype": "text/x-python",
   "name": "python",
   "nbconvert_exporter": "python",
   "pygments_lexer": "ipython3",
   "version": "3.5.2"
  }
 },
 "nbformat": 4,
 "nbformat_minor": 1
}
